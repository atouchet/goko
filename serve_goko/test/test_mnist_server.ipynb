{
 "metadata": {
  "language_info": {
   "codemirror_mode": {
    "name": "ipython",
    "version": 3
   },
   "file_extension": ".py",
   "mimetype": "text/x-python",
   "name": "python",
   "nbconvert_exporter": "python",
   "pygments_lexer": "ipython3",
   "version": "3.8.5"
  },
  "orig_nbformat": 2,
  "kernelspec": {
   "name": "python3",
   "display_name": "Python 3",
   "language": "python"
  }
 },
 "nbformat": 4,
 "nbformat_minor": 2,
 "cells": [
  {
   "cell_type": "code",
   "execution_count": 1,
   "metadata": {},
   "outputs": [],
   "source": [
    "import requests\n",
    "import numpy as np\n",
    "import tensorflow as tf\n",
    "import msgpack\n",
    "import json\n",
    "import zlib\n",
    "mnist = tf.keras.datasets.mnist\n",
    "\n",
    "(x_train, y_train),(x_test, y_test) = mnist.load_data()\n",
    "x_train, x_test = x_train / 255.0, x_test / 255.0\n",
    "x_train = x_train.astype(np.float32)\n",
    "y_train = y_train.astype(np.int64)\n",
    "x_train = x_train.reshape(-1, 28*28)\n"
   ]
  },
  {
   "cell_type": "code",
   "execution_count": 2,
   "metadata": {},
   "outputs": [
    {
     "output_type": "stream",
     "name": "stdout",
     "text": [
      "<Response [200]>\n{\"scale_base\":1.3,\"leaf_cutoff\":10,\"min_res_index\":-20,\"use_singletons\":true,\"partition_type\":\"First\",\"verbosity\":0,\"rng_seed\":0}\n"
     ]
    }
   ],
   "source": [
    "\n",
    "r = requests.get('http://localhost:3030/')\n",
    "\n",
    "print(r)\n",
    "print(r.text)"
   ]
  },
  {
   "cell_type": "code",
   "execution_count": 3,
   "metadata": {},
   "outputs": [
    {
     "output_type": "stream",
     "name": "stdout",
     "text": [
      "<Response [200]>\n{\n  \"knn\": [\n    {\n      \"name\": \"0\",\n      \"distance\": 0.0\n    },\n    {\n      \"name\": \"32248\",\n      \"distance\": 6.123421\n    },\n    {\n      \"name\": \"8728\",\n      \"distance\": 6.241574\n    },\n    {\n      \"name\": \"18932\",\n      \"distance\": 6.2538\n    },\n    {\n      \"name\": \"30483\",\n      \"distance\": 6.2616057\n    }\n  ]\n}\n"
     ]
    }
   ],
   "source": [
    "sample_bytes = zlib.compress(msgpack.packb([float(f) for f in x_train[0]]))\n",
    "\n",
    "r = requests.get('http://localhost:3030/knn', params = {\"k\": 5}, headers = {\"Content-Type\": \"gzip\"}, data=sample_bytes)\n",
    "\n",
    "print(r)\n",
    "print(json.dumps(json.loads(r.text), indent=2))"
   ]
  },
  {
   "cell_type": "code",
   "execution_count": 4,
   "metadata": {},
   "outputs": [
    {
     "output_type": "stream",
     "name": "stdout",
     "text": [
      "<Response [200]>\n{\n  \"routing_knn\": [\n    {\n      \"name\": \"629\",\n      \"distance\": 8.008285\n    },\n    {\n      \"name\": \"15210\",\n      \"distance\": 8.067046\n    },\n    {\n      \"name\": \"35390\",\n      \"distance\": 8.094733\n    },\n    {\n      \"name\": \"24038\",\n      \"distance\": 8.235575\n    },\n    {\n      \"name\": \"38281\",\n      \"distance\": 8.591897\n    }\n  ]\n}\n"
     ]
    }
   ],
   "source": [
    "sample_bytes = zlib.compress(msgpack.packb([float(f) for f in x_train[0]]))\n",
    "\n",
    "r = requests.get('http://localhost:3030/routing_knn', params = {\"k\": 5}, headers = {\"Content-Type\": \"gzip\"}, data=sample_bytes)\n",
    "\n",
    "print(r)\n",
    "print(json.dumps(json.loads(r.text), indent=2))"
   ]
  },
  {
   "cell_type": "code",
   "execution_count": 5,
   "metadata": {},
   "outputs": [
    {
     "output_type": "stream",
     "name": "stdout",
     "text": [
      "<Response [200]>\n{\n  \"path\": [\n    {\n      \"name\": \"59999\",\n      \"layer\": 11,\n      \"distance\": 9.924044\n    },\n    {\n      \"name\": \"59999\",\n      \"layer\": 10,\n      \"distance\": 9.924044\n    },\n    {\n      \"name\": \"59999\",\n      \"layer\": 9,\n      \"distance\": 9.924044\n    },\n    {\n      \"name\": \"15210\",\n      \"layer\": 8,\n      \"distance\": 8.067046\n    }\n  ]\n}\n"
     ]
    }
   ],
   "source": [
    "sample_bytes = zlib.compress(msgpack.packb([float(f) for f in x_train[0]]))\n",
    "\n",
    "r = requests.get('http://localhost:3030/path', params = {\"k\": 5}, headers = {\"Content-Type\": \"gzip\"}, data=sample_bytes)\n",
    "\n",
    "print(r)\n",
    "print(json.dumps(json.loads(r.text), indent=2))"
   ]
  },
  {
   "cell_type": "code",
   "execution_count": 6,
   "metadata": {},
   "outputs": [
    {
     "output_type": "stream",
     "name": "stdout",
     "text": [
      "<Response [200]>\n{\n  \"TrackPath\": {\n    \"success\": false\n  }\n}\n"
     ]
    }
   ],
   "source": [
    "# Should 200, {'TrackPath': {'success': False}}\n",
    "sample_bytes = zlib.compress(msgpack.packb([float(f) for f in x_train[0]]))\n",
    "\n",
    "r = requests.post('http://localhost:3030/track/point', headers = {\"Content-Type\": \"gzip\"}, data=sample_bytes)\n",
    "\n",
    "print(r)\n",
    "print(json.dumps(json.loads(r.text), indent=2))"
   ]
  },
  {
   "cell_type": "code",
   "execution_count": 7,
   "metadata": {},
   "outputs": [
    {
     "output_type": "stream",
     "name": "stdout",
     "text": [
      "<Response [404]>\n"
     ]
    }
   ],
   "source": [
    "# Should 404, no window\n",
    "r = requests.get('http://localhost:3030/track/stats')\n",
    "\n",
    "print(r)"
   ]
  },
  {
   "cell_type": "code",
   "execution_count": 8,
   "metadata": {},
   "outputs": [
    {
     "output_type": "stream",
     "name": "stdout",
     "text": [
      "<Response [200]>\n{\n  \"Unknown\": [\n    null,\n    100\n  ]\n}\n"
     ]
    }
   ],
   "source": [
    "# Should get {'Unknown': [None, 100]}\n",
    "r = requests.get('http://localhost:3030/track/stats?window_size=100')\n",
    "\n",
    "print(r)\n",
    "print(json.dumps(json.loads(r.text), indent=2))"
   ]
  },
  {
   "cell_type": "code",
   "execution_count": 9,
   "metadata": {},
   "outputs": [
    {
     "output_type": "stream",
     "name": "stdout",
     "text": [
      "<Response [200]>\n{\n  \"AddTracker\": {\n    \"success\": true\n  }\n}\n"
     ]
    }
   ],
   "source": [
    "# Should get {'Unknown': [None, 100]}\n",
    "r = requests.post('http://localhost:3030/track/add?window_size=100')\n",
    "\n",
    "print(r)\n",
    "print(json.dumps(json.loads(r.text), indent=2))"
   ]
  },
  {
   "cell_type": "code",
   "execution_count": 10,
   "metadata": {},
   "outputs": [
    {
     "output_type": "stream",
     "name": "stdout",
     "text": [
      "<Response [200]>\n{\n  \"TrackPath\": {\n    \"success\": true\n  }\n}\n"
     ]
    }
   ],
   "source": [
    "# Should 200, {'TrackPath': {'success': True}}\n",
    "sample_bytes = zlib.compress(msgpack.packb([float(f) for f in x_train[0]]))\n",
    "\n",
    "r = requests.post('http://localhost:3030/track/point', headers = {\"Content-Type\": \"gzip\"}, data=sample_bytes)\n",
    "\n",
    "print(r)\n",
    "print(json.dumps(json.loads(r.text), indent=2))"
   ]
  },
  {
   "cell_type": "code",
   "execution_count": 11,
   "metadata": {},
   "outputs": [
    {
     "output_type": "stream",
     "name": "stdout",
     "text": [
      "<Response [200]>\n{'CurrentStats': {'kl_div': 0.05452124172559536, 'max': 0.056572243432235325, 'min': 2.6088748938946082e-09, 'nz_count': 3, 'moment1_nz': 0.05657476608674905, 'moment2_nz': 0.00320041873330673, 'sequence_len': 1}}\n"
     ]
    }
   ],
   "source": [
    "# Should get a current stats object with a very small kl_div.\n",
    "r = requests.get('http://localhost:3030/track/stats?window_size=100')\n",
    "\n",
    "print(r)\n",
    "print(json.loads(r.text))"
   ]
  },
  {
   "source": [
    "A user queries the data they are interested in. Their distribution is not like the training data, but it should be relatively close."
   ],
   "cell_type": "markdown",
   "metadata": {}
  },
  {
   "cell_type": "code",
   "execution_count": 12,
   "metadata": {},
   "outputs": [
    {
     "output_type": "stream",
     "name": "stdout",
     "text": [
      "<Response [200]>\n{\n  \"CurrentStats\": {\n    \"kl_div\": 10.54270919064686,\n    \"max\": 0.5435121254599649,\n    \"min\": 2.6368420392941516e-05,\n    \"nz_count\": 127,\n    \"moment1_nz\": 11.914924413607055,\n    \"moment2_nz\": 2.3793493272263535,\n    \"sequence_len\": 100\n  }\n}\n"
     ]
    }
   ],
   "source": [
    "# Should get a current stats object with a very small kl_div.\n",
    "r = requests.post('http://localhost:3030/track/add?window_size=100&tracker_name=normal')\n",
    "\n",
    "for i in range(100):\n",
    "    sample_bytes = zlib.compress(msgpack.packb([float(f) for f in x_train[i]]))\n",
    "    r = requests.post('http://localhost:3030/track/point?tracker_name=normal', headers = {\"Content-Type\": \"gzip\"}, data=sample_bytes)\n",
    "    assert json.loads(r.text)[\"TrackPath\"][\"success\"] == True\n",
    "    \n",
    "r = requests.get('http://localhost:3030/track/stats?window_size=100&tracker_name=normal')\n",
    "\n",
    "print(r)\n",
    "print(json.dumps(json.loads(r.text), indent=2))"
   ]
  },
  {
   "source": [
    "An attacker queries the same spot (near abouts) many times over. Their distribution is not like the training data, it's a dirac delta"
   ],
   "cell_type": "markdown",
   "metadata": {}
  },
  {
   "cell_type": "code",
   "execution_count": 13,
   "metadata": {},
   "outputs": [
    {
     "output_type": "stream",
     "name": "stdout",
     "text": [
      "<Response [200]>\n{\n  \"CurrentStats\": {\n    \"kl_div\": 78.28138439428824,\n    \"max\": 176.15371611160458,\n    \"min\": 2.6368420392941516e-05,\n    \"nz_count\": 3,\n    \"moment1_nz\": 176.178909811383,\n    \"moment2_nz\": 31030.132333323043,\n    \"sequence_len\": 100\n  }\n}\n"
     ]
    }
   ],
   "source": [
    "# Should get a current stats object with a very small kl_div.\n",
    "r = requests.post('http://localhost:3030/track/add?window_size=100&tracker_name=attack')\n",
    "\n",
    "sample_bytes = zlib.compress(msgpack.packb([float(f) for f in x_train[0]]))\n",
    "for i in range(100):\n",
    "    r = requests.post('http://localhost:3030/track/point?tracker_name=attack', headers = {\"Content-Type\": \"gzip\"}, data=sample_bytes)\n",
    "    assert json.loads(r.text)[\"TrackPath\"][\"success\"] == True\n",
    "    \n",
    "r = requests.get('http://localhost:3030/track/stats?window_size=100&tracker_name=attack')\n",
    "\n",
    "print(r)\n",
    "print(json.dumps(json.loads(r.text), indent=2))"
   ]
  }
 ]
}