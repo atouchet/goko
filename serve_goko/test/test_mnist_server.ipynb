{
 "metadata": {
  "language_info": {
   "codemirror_mode": {
    "name": "ipython",
    "version": 3
   },
   "file_extension": ".py",
   "mimetype": "text/x-python",
   "name": "python",
   "nbconvert_exporter": "python",
   "pygments_lexer": "ipython3",
   "version": "3.8.5"
  },
  "orig_nbformat": 2,
  "kernelspec": {
   "name": "python3",
   "display_name": "Python 3",
   "language": "python"
  }
 },
 "nbformat": 4,
 "nbformat_minor": 2,
 "cells": [
  {
   "cell_type": "code",
   "execution_count": 1,
   "metadata": {},
   "outputs": [],
   "source": [
    "import requests\n",
    "import numpy as np\n",
    "import tensorflow as tf\n",
    "import msgpack\n",
    "import json\n",
    "import zlib\n",
    "mnist = tf.keras.datasets.mnist\n",
    "\n",
    "(x_train, y_train),(x_test, y_test) = mnist.load_data()\n",
    "x_train, x_test = x_train / 255.0, x_test / 255.0\n",
    "x_train = x_train.astype(np.float32)\n",
    "y_train = y_train.astype(np.int64)\n",
    "x_train = x_train.reshape(-1, 28*28)\n"
   ]
  },
  {
   "cell_type": "code",
   "execution_count": 2,
   "metadata": {},
   "outputs": [
    {
     "output_type": "stream",
     "name": "stdout",
     "text": [
      "<Response [200]>\n{\"scale_base\":1.3,\"leaf_cutoff\":10,\"min_res_index\":-20,\"use_singletons\":true,\"partition_type\":\"First\",\"verbosity\":0,\"rng_seed\":0}\n"
     ]
    }
   ],
   "source": [
    "\n",
    "r = requests.get('http://localhost:3030/')\n",
    "\n",
    "print(r)\n",
    "print(r.text)"
   ]
  },
  {
   "cell_type": "code",
   "execution_count": 3,
   "metadata": {},
   "outputs": [
    {
     "output_type": "stream",
     "name": "stdout",
     "text": [
      "<Response [200]>\n{'knn': [{'name': '0', 'distance': 0.0}, {'name': '32248', 'distance': 6.123421}, {'name': '8728', 'distance': 6.241574}, {'name': '18932', 'distance': 6.2538}, {'name': '30483', 'distance': 6.2616057}]}\n"
     ]
    }
   ],
   "source": [
    "sample_bytes = zlib.compress(msgpack.packb([float(f) for f in x_train[0]]))\n",
    "\n",
    "r = requests.get('http://localhost:3030/knn', params = {\"k\": 5}, headers = {\"Content-Type\": \"gzip\"}, data=sample_bytes)\n",
    "\n",
    "print(r)\n",
    "print(json.loads(r.text))"
   ]
  },
  {
   "cell_type": "code",
   "execution_count": 4,
   "metadata": {},
   "outputs": [
    {
     "output_type": "stream",
     "name": "stdout",
     "text": [
      "<Response [200]>\n{'routing_knn': [{'name': '629', 'distance': 8.008285}, {'name': '15210', 'distance': 8.067046}, {'name': '35390', 'distance': 8.094733}, {'name': '24038', 'distance': 8.235575}, {'name': '38281', 'distance': 8.591897}]}\n"
     ]
    }
   ],
   "source": [
    "sample_bytes = zlib.compress(msgpack.packb([float(f) for f in x_train[0]]))\n",
    "\n",
    "r = requests.get('http://localhost:3030/routing_knn', params = {\"k\": 5}, headers = {\"Content-Type\": \"gzip\"}, data=sample_bytes)\n",
    "\n",
    "print(r)\n",
    "print(json.loads(r.text))"
   ]
  },
  {
   "cell_type": "code",
   "execution_count": 5,
   "metadata": {},
   "outputs": [
    {
     "output_type": "stream",
     "name": "stdout",
     "text": [
      "<Response [200]>\n{'path': [{'name': '59999', 'layer': 11, 'distance': 9.924044}, {'name': '59999', 'layer': 10, 'distance': 9.924044}, {'name': '59999', 'layer': 9, 'distance': 9.924044}, {'name': '15210', 'layer': 8, 'distance': 8.067046}]}\n"
     ]
    }
   ],
   "source": [
    "sample_bytes = zlib.compress(msgpack.packb([float(f) for f in x_train[0]]))\n",
    "\n",
    "r = requests.get('http://localhost:3030/path', params = {\"k\": 5}, headers = {\"Content-Type\": \"gzip\"}, data=sample_bytes)\n",
    "\n",
    "print(r)\n",
    "print(json.loads(r.text))"
   ]
  },
  {
   "cell_type": "code",
   "execution_count": 6,
   "metadata": {},
   "outputs": [
    {
     "output_type": "stream",
     "name": "stdout",
     "text": [
      "<Response [200]>\n{'TrackPath': {'success': True}}\n"
     ]
    }
   ],
   "source": [
    "# Should 200, {'TrackPath': {'success': False}}\n",
    "sample_bytes = zlib.compress(msgpack.packb([float(f) for f in x_train[0]]))\n",
    "\n",
    "r = requests.post('http://localhost:3030/track/point', headers = {\"Content-Type\": \"gzip\"}, data=sample_bytes)\n",
    "\n",
    "print(r)\n",
    "print(json.loads(r.text))"
   ]
  },
  {
   "cell_type": "code",
   "execution_count": 7,
   "metadata": {},
   "outputs": [
    {
     "output_type": "stream",
     "name": "stdout",
     "text": [
      "<Response [404]>\n"
     ]
    }
   ],
   "source": [
    "# Should 404, no window\n",
    "r = requests.get('http://localhost:3030/track/stats&window_size=100')\n",
    "\n",
    "print(r)"
   ]
  },
  {
   "cell_type": "code",
   "execution_count": 8,
   "metadata": {},
   "outputs": [
    {
     "output_type": "stream",
     "name": "stdout",
     "text": [
      "<Response [200]>\n{'Unknown': [None, 100]}\n"
     ]
    }
   ],
   "source": [
    "# Should get {'Unknown': [None, 100]}\n",
    "r = requests.get('http://localhost:3030/track/stats?window_size=100')\n",
    "\n",
    "print(r)\n",
    "print(json.loads(r.text))"
   ]
  },
  {
   "cell_type": "code",
   "execution_count": 9,
   "metadata": {},
   "outputs": [
    {
     "output_type": "stream",
     "name": "stdout",
     "text": [
      "<Response [200]>\n{\"AddTracker\":{\"success\":true}}\n{'AddTracker': {'success': True}}\n"
     ]
    }
   ],
   "source": [
    "# Should get {'Unknown': [None, 100]}\n",
    "r = requests.post('http://localhost:3030/track/add?window_size=100')\n",
    "\n",
    "print(r)\n",
    "print(r.text)\n",
    "print(json.loads(r.text))"
   ]
  },
  {
   "cell_type": "code",
   "execution_count": 10,
   "metadata": {},
   "outputs": [
    {
     "output_type": "stream",
     "name": "stdout",
     "text": [
      "<Response [200]>\n{'TrackPath': {'success': True}}\n"
     ]
    }
   ],
   "source": [
    "# Should 200, {'TrackPath': {'success': True}}\n",
    "sample_bytes = zlib.compress(msgpack.packb([float(f) for f in x_train[0]]))\n",
    "\n",
    "r = requests.post('http://localhost:3030/track/point', headers = {\"Content-Type\": \"gzip\"}, data=sample_bytes)\n",
    "\n",
    "print(r)\n",
    "print(json.loads(r.text))"
   ]
  },
  {
   "cell_type": "code",
   "execution_count": 11,
   "metadata": {},
   "outputs": [
    {
     "output_type": "stream",
     "name": "stdout",
     "text": [
      "<Response [200]>\n{'CurrentStats': {'kl_div': 0.05452124172559536, 'max': -1.7976931348623157e+308, 'min': 1.7976931348623157e+308, 'nz_count': 0, 'moment1_nz': 0.0, 'moment2_nz': 0.0, 'sequence_len': 1}}\n"
     ]
    }
   ],
   "source": [
    "# Should get a current stats object with a very small kl_div.\n",
    "r = requests.get('http://localhost:3030/track/stats?window_size=100')\n",
    "\n",
    "print(r)\n",
    "print(json.loads(r.text))"
   ]
  },
  {
   "cell_type": "code",
   "execution_count": 12,
   "metadata": {},
   "outputs": [],
   "source": [
    "# Should get {'Unknown': [None, 100]}\n",
    "sample_bytes = zlib.compress(msgpack.packb([float(f) for f in x_train[0]]))\n",
    "for i in range(100):\n",
    "    r = requests.post('http://localhost:3030/track/point', headers = {\"Content-Type\": \"gzip\"}, data=sample_bytes)\n",
    "    assert json.loads(r.text)[\"TrackPath\"][\"success\"] == True"
   ]
  },
  {
   "cell_type": "code",
   "execution_count": 13,
   "metadata": {},
   "outputs": [
    {
     "output_type": "stream",
     "name": "stdout",
     "text": [
      "<Response [200]>\n{'CurrentStats': {'kl_div': 78.28138439428824, 'max': -1.7976931348623157e+308, 'min': 1.7976931348623157e+308, 'nz_count': 0, 'moment1_nz': 0.0, 'moment2_nz': 0.0, 'sequence_len': 100}}\n"
     ]
    }
   ],
   "source": [
    "# Should get a current stats object with a very small kl_div.\n",
    "r = requests.get('http://localhost:3030/track/stats?window_size=100')\n",
    "\n",
    "print(r)\n",
    "print(json.loads(r.text))"
   ]
  }
 ]
}