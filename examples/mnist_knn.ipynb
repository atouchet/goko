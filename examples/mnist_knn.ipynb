{
 "metadata": {
  "language_info": {
   "codemirror_mode": {
    "name": "ipython",
    "version": 3
   },
   "file_extension": ".py",
   "mimetype": "text/x-python",
   "name": "python",
   "nbconvert_exporter": "python",
   "pygments_lexer": "ipython3",
   "version": "3.8.5-final"
  },
  "orig_nbformat": 2,
  "kernelspec": {
   "name": "python3",
   "display_name": "Python 3"
  }
 },
 "nbformat": 4,
 "nbformat_minor": 2,
 "cells": [
  {
   "source": [
    "# Basic MNIST Example\n",
    "\n",
    "This basic example shows loading from a YAML file. You can specify all the parameters in the yaml file, but we're going to load the raw data using tensorflow.\n"
   ],
   "cell_type": "markdown",
   "metadata": {}
  },
  {
   "cell_type": "code",
   "execution_count": null,
   "metadata": {},
   "outputs": [],
   "source": [
    "import numpy as np\n",
    "import tensorflow as tf\n",
    "from pygoko import CoverTree\n",
    "mnist = tf.keras.datasets.mnist\n",
    "\n",
    "(x_train, y_train),(x_test, y_test) = mnist.load_data()\n",
    "x_train, x_test = x_train / 255.0, x_test / 255.0\n",
    "x_train = x_train.astype(np.float32)\n",
    "y_train = y_train.astype(np.int64)\n",
    "x_train = x_train.reshape(-1, 28*28)"
   ]
  },
  {
   "source": [
    "Here we build the covertree, with a leaf cutoff and a minimum resolution index to control the size of the tree. \n",
    "\n",
    "The minimum resolution index is the scale at which the tree stops splitting. This can be used to control the L2 error (we use the standard fast implementation, which is not the most accurate), or to specify a scale at which the KNN doesn't matter to you. \n",
    "\n",
    "The leaf cutoff controls the size of individual leafs of the tree. If a node covers fewer than this number of points, the splitting stops and the node becomes a leaf. \n",
    "\n",
    "The scale base controls the down-step of each split. 1.3 is a good default. It is usually close to the fastest at creating the tree but can be hard to reason about. Another popular choice is 2, which means the radius halves at each step. "
   ],
   "cell_type": "markdown",
   "metadata": {}
  },
  {
   "cell_type": "code",
   "execution_count": null,
   "metadata": {},
   "outputs": [],
   "source": [
    "tree = CoverTree()\n",
    "tree.set_leaf_cutoff(10)\n",
    "tree.set_scale_base(1.3)\n",
    "tree.set_min_res_index(-20)\n",
    "tree.fit(x_train,y_train)"
   ]
  },
  {
   "source": [
    "Here's the basic KNN for this data structure. "
   ],
   "cell_type": "markdown",
   "metadata": {}
  },
  {
   "cell_type": "code",
   "execution_count": null,
   "metadata": {},
   "outputs": [],
   "source": [
    "point = np.zeros([784], dtype=np.float32)\n",
    "tree.knn(point,5)"
   ]
  },
  {
   "source": [
    "The nodes are addressable by specifying the scale index, and the point index (in the originating dataset). This errors out if you supply an address that isn't known tot he tree. (Currently this is rust panicing about you unwrapping an option that is a None). Only use this creation method with known, correct, addresses."
   ],
   "cell_type": "markdown",
   "metadata": {}
  },
  {
   "cell_type": "code",
   "execution_count": null,
   "metadata": {},
   "outputs": [],
   "source": [
    "root = tree.root()\n",
    "print(f\"Root address: {root.address()}\")\n",
    "for child in root.children():\n",
    "    child_address = child.address()\n",
    "    # The following is the same node as the child:\n",
    "    copy_of_child = tree.node(child_address)\n",
    "    print(f\"  Child address: {copy_of_child.address()}\")"
   ]
  },
  {
   "source": [
    "If a query point were to belong to the dataset that the tree was constructed from, but was never selected as a routing node, then it would end up at a particular leaf node. This leaf node is deterministic (given the pre-built tree). The path for the query point is the addresses of the nodes from the root node to this leaf."
   ],
   "cell_type": "markdown",
   "metadata": {}
  },
  {
   "cell_type": "code",
   "execution_count": null,
   "metadata": {},
   "outputs": [],
   "source": [
    "path = tree.path(point)\n",
    "print(path)\n",
    "\n",
    "print(\"Summary of the labels of points covered by the node at address\")\n",
    "for dist, address in path:\n",
    "    node = tree.node(address)\n",
    "    label_summary = node.label_summary()\n",
    "    print(f\"Address: {address} \\t Summary: {label_summary}\")"
   ]
  },
  {
   "source": [
    "We can also query for the path of known points, by index in the original dataset."
   ],
   "cell_type": "markdown",
   "metadata": {}
  },
  {
   "cell_type": "code",
   "execution_count": null,
   "metadata": {},
   "outputs": [],
   "source": [
    "path = tree.known_path(40000)\n",
    "\n",
    "print(\"Summary of the labels of points covered by the node at address\")\n",
    "for dist, address in path:\n",
    "    node = tree.node(address)\n",
    "    label_summary = node.label_summary()\n",
    "    print(f\"Address: {address} \\t Summary: {label_summary}\")\n",
    "\n"
   ]
  }
 ]
}