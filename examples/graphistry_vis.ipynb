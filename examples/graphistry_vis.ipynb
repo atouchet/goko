{
 "metadata": {
  "language_info": {
   "codemirror_mode": {
    "name": "ipython",
    "version": 3
   },
   "file_extension": ".py",
   "mimetype": "text/x-python",
   "name": "python",
   "nbconvert_exporter": "python",
   "pygments_lexer": "ipython3",
   "version": "3.8.5-final"
  },
  "orig_nbformat": 2,
  "kernelspec": {
   "name": "python3",
   "display_name": "Python 3"
  }
 },
 "nbformat": 4,
 "nbformat_minor": 2,
 "cells": [
  {
   "cell_type": "code",
   "execution_count": null,
   "metadata": {},
   "outputs": [],
   "source": [
    "import json\n",
    "import numpy as np\n",
    "import pandas as pd\n",
    "from pygoko import CoverTree\n",
    "with open(\"graphistry_creds.json\") as creds:\n",
    "    creds = json.load(creds)\n",
    "import graphistry\n",
    "graphistry.register(api=3, username=creds[\"username\"], password=creds[\"password\"])\n",
    "\n",
    "import tensorflow as tf\n",
    "mnist = tf.keras.datasets.mnist\n",
    "\n",
    "(x_train, y_train),(x_test, y_test) = mnist.load_data()\n",
    "x_train, x_test = x_train / 255.0, x_test / 255.0\n",
    "x_train = x_train.astype(np.float32)\n",
    "y_train = y_train.astype(np.int64)\n",
    "x_train = x_train.reshape(-1, 28*28)"
   ]
  },
  {
   "cell_type": "code",
   "execution_count": null,
   "metadata": {},
   "outputs": [],
   "source": [
    "tree = CoverTree()\n",
    "tree.set_leaf_cutoff(50)\n",
    "tree.set_scale_base(1.3)\n",
    "tree.set_min_res_index(-20)\n",
    "tree.fit(x_train,y_train)"
   ]
  },
  {
   "cell_type": "code",
   "execution_count": null,
   "metadata": {},
   "outputs": [],
   "source": [
    "source = []\n",
    "destination = []\n",
    "weight = []\n",
    "depth = []\n",
    "\n",
    "node_colors =  [0xFF000000, 0xFFFF0000, 0xFFFFFF00, 0x00FF0000, 0x0000FF00, 0xFF00FF00, 0x88000000, 0x88888800, 0x00880000, 0x00008800]\n",
    "\n",
    "nodes_centers = set()\n",
    "\n",
    "unvisited_nodes = [tree.root()]\n",
    "while len(unvisited_nodes) > 0: \n",
    "    node = unvisited_nodes.pop()\n",
    "    nodes_centers.add(node.address()[1])\n",
    "    for child in node.children():\n",
    "        source.append(node.address()[1])\n",
    "        destination.append(child.address()[1])\n",
    "        depth.append(node.address()[0] * 0xFF000000)\n",
    "        weight.append(1.3**(-node.address()[0]))\n",
    "        unvisited_nodes.append(child)\n",
    "\n",
    "edges = pd.DataFrame({\n",
    "    'source': source,\n",
    "    'destination': destination,\n",
    "    'weight': weight,\n",
    "    'depth': depth,\n",
    "})\n",
    "\n",
    "node_id = list(nodes_centers)\n",
    "label = [node_colors[y_train[i]] for i in node_id]\n",
    "\n",
    "nodes = pd.DataFrame({\n",
    "    \"node_id\" : node_id,\n",
    "    \"label\" : label\n",
    "})"
   ]
  },
  {
   "cell_type": "code",
   "execution_count": null,
   "metadata": {},
   "outputs": [],
   "source": [
    "URL_PARAMS = {'play': 5000, 'edgeCurvature': 0.1, 'precisionVsSpeed': -3}\n",
    "g = graphistry.nodes(nodes).edges(edges).bind(source='source', destination='destination', node=\"node_id\", point_color=\"label\").settings(url_params=URL_PARAMS)"
   ]
  },
  {
   "cell_type": "code",
   "execution_count": null,
   "metadata": {},
   "outputs": [],
   "source": [
    "g.bind(edge_weight='weight').settings(url_params={**URL_PARAMS, 'expansionRatio': 40, 'edgeInfluence': 7}).plot(render=True)"
   ]
  },
  {
   "cell_type": "code",
   "execution_count": null,
   "metadata": {},
   "outputs": [],
   "source": []
  }
 ]
}