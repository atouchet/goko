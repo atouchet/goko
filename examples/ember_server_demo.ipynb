{
 "metadata": {
  "language_info": {
   "codemirror_mode": {
    "name": "ipython",
    "version": 3
   },
   "file_extension": ".py",
   "mimetype": "text/x-python",
   "name": "python",
   "nbconvert_exporter": "python",
   "pygments_lexer": "ipython3",
   "version": "3.8.5"
  },
  "orig_nbformat": 2,
  "kernelspec": {
   "name": "python3",
   "display_name": "Python 3",
   "language": "python"
  }
 },
 "nbformat": 4,
 "nbformat_minor": 2,
 "cells": [
  {
   "source": [
    "# Opening the model, and preparing the target\n",
    "We prepare a target, and open the test set. This should be hosted somewhere else, but "
   ],
   "cell_type": "markdown",
   "metadata": {}
  },
  {
   "cell_type": "code",
   "execution_count": 1,
   "metadata": {},
   "outputs": [
    {
     "output_type": "stream",
     "name": "stderr",
     "text": [
      "/usr/local/anaconda3/lib/python3.8/site-packages/lightgbm/__init__.py:42: UserWarning: Starting from version 2.2.1, the library file in distribution wheels for macOS is built by the Apple Clang (Xcode_8.3.3) compiler.\n",
      "This means that in case of installing LightGBM from PyPI via the ``pip install lightgbm`` command, you don't need to install the gcc compiler anymore.\n",
      "Instead of that, you need to install the OpenMP library, which is required for running LightGBM on the system with the Apple Clang compiler.\n",
      "You can install the OpenMP library by the following command: ``brew install libomp``.\n",
      "  warnings.warn(\"Starting from version 2.2.1, the library file in distribution wheels for macOS \"\n",
      "WARNING: EMBER feature version 2 were computed using lief version 0.9.0-\n",
      "WARNING:   lief version 0.10.1- found instead. There may be slight inconsistencies\n",
      "WARNING:   in the feature calculations.\n"
     ]
    }
   ],
   "source": [
    "import ember\n",
    "import numpy as np\n",
    "import json, msgpack, requests, zlib\n",
    "import matplotlib.pyplot as plt\n",
    "from lightgbm import Booster\n",
    "\n",
    "datadir = \"/Users/sven/localdata/ember2018/\"\n",
    "\n",
    "x_test, y_test  = ember.read_vectorized_features(datadir,\"test\")\n",
    "\n",
    "model = Booster(model_file=datadir + \"model.txt\")"
   ]
  },
  {
   "source": [
    "# Interacting with the server\n",
    "\n",
    "To start the server go to `serve_goko` and run `cargo run --example ember_server`\n",
    "## Status: /\n",
    "Here we get the status of the tree:"
   ],
   "cell_type": "markdown",
   "metadata": {}
  },
  {
   "cell_type": "code",
   "execution_count": 2,
   "metadata": {},
   "outputs": [
    {
     "output_type": "stream",
     "name": "stdout",
     "text": [
      "{\n  \"scale_base\": 1.5,\n  \"leaf_cutoff\": 100,\n  \"min_res_index\": -20,\n  \"use_singletons\": true,\n  \"partition_type\": \"Nearest\",\n  \"verbosity\": 2,\n  \"rng_seed\": null\n}\n"
     ]
    }
   ],
   "source": [
    "r = requests.get('http://localhost:3030/')\n",
    "print(json.dumps(json.loads(r.text), indent=2))"
   ]
  },
  {
   "source": [
    "## KNN: /knn?k=N\n",
    "Here we can get the true KNN "
   ],
   "cell_type": "markdown",
   "metadata": {}
  },
  {
   "cell_type": "code",
   "execution_count": 3,
   "metadata": {},
   "outputs": [
    {
     "output_type": "stream",
     "name": "stdout",
     "text": [
      "{\n  \"knn\": [\n    {\n      \"name\": \"0\",\n      \"distance\": 0.0\n    },\n    {\n      \"name\": \"173337\",\n      \"distance\": 1.0\n    },\n    {\n      \"name\": \"58831\",\n      \"distance\": 1.0000011\n    },\n    {\n      \"name\": \"24412\",\n      \"distance\": 5.0\n    },\n    {\n      \"name\": \"42622\",\n      \"distance\": 5.0\n    }\n  ]\n}\n"
     ]
    }
   ],
   "source": [
    "sample_bytes = zlib.compress(msgpack.packb([float(f) for f in x_test[0]]))\n",
    "r = requests.get('http://localhost:3030/knn', params = {\"k\": 5}, headers = {\"Content-Type\": \"gzip\"}, data=sample_bytes)\n",
    "print(json.dumps(json.loads(r.text), indent=2))"
   ]
  },
  {
   "source": [
    "## Routing KNN: /routing_knn?k=N\n",
    "\n",
    "Here's an approximate KNN that is likely to be wrong, unless you set up a very slow tree. This ignores most of the points. "
   ],
   "cell_type": "markdown",
   "metadata": {}
  },
  {
   "cell_type": "code",
   "execution_count": 4,
   "metadata": {},
   "outputs": [
    {
     "output_type": "stream",
     "name": "stdout",
     "text": [
      "<Response [200]>\n{\n  \"routing_knn\": [\n    {\n      \"name\": \"81300\",\n      \"distance\": 13.152946\n    },\n    {\n      \"name\": \"139576\",\n      \"distance\": 17.464249\n    },\n    {\n      \"name\": \"48288\",\n      \"distance\": 24.596748\n    },\n    {\n      \"name\": \"26837\",\n      \"distance\": 30.149628\n    },\n    {\n      \"name\": \"118135\",\n      \"distance\": 30.282007\n    }\n  ]\n}\n"
     ]
    }
   ],
   "source": [
    "sample_bytes = zlib.compress(msgpack.packb([float(f) for f in x_test[0]]))\n",
    "\n",
    "r = requests.get('http://localhost:3030/routing_knn', params = {\"k\": 5}, headers = {\"Content-Type\": \"gzip\"}, data=sample_bytes)\n",
    "\n",
    "print(r)\n",
    "print(json.dumps(json.loads(r.text), indent=2))"
   ]
  },
  {
   "source": [
    "## Path query: /path\n",
    "\n",
    "The path of the point you're interested in. We determine which node the point belongs to (treating the tree like a filesystem), then the path from the root to that node.\n",
    "It also includes the label summary for each element of the path. We can use this to determine many many things.  "
   ],
   "cell_type": "markdown",
   "metadata": {}
  },
  {
   "cell_type": "code",
   "execution_count": 5,
   "metadata": {},
   "outputs": [
    {
     "output_type": "stream",
     "name": "stdout",
     "text": [
      "<Response [200]>\n{\n  \"path\": [\n    {\n      \"name\": \"199999\",\n      \"layer\": 58,\n      \"distance\": 76001580.0,\n      \"label_summary\": {\n        \"summary\": {\n          \"items\": [\n            [\n              1,\n              100000\n            ],\n            [\n              0,\n              100000\n            ]\n          ]\n        },\n        \"nones\": 0,\n        \"errors\": 0\n      }\n    },\n    {\n      \"name\": \"199999\",\n      \"layer\": 57,\n      \"distance\": 76001580.0,\n      \"label_summary\": {\n        \"summary\": {\n          \"items\": [\n            [\n              1,\n              99991\n            ],\n            [\n              0,\n              99997\n            ]\n          ]\n        },\n        \"nones\": 0,\n        \"errors\": 0\n      }\n    },\n    {\n      \"name\": \"199999\",\n      \"layer\": 56,\n      \"distance\": 76001580.0,\n      \"label_summary\": {\n        \"summary\": {\n          \"items\": [\n            [\n              1,\n              99989\n            ],\n            [\n              0,\n              99991\n            ]\n          ]\n        },\n        \"nones\": 0,\n        \"errors\": 0\n      }\n    },\n    {\n      \"name\": \"199999\",\n      \"layer\": 55,\n      \"distance\": 76001580.0,\n      \"label_summary\": {\n        \"summary\": {\n          \"items\": [\n            [\n              0,\n              99986\n            ],\n            [\n              1,\n              99975\n            ]\n          ]\n        },\n        \"nones\": 0,\n        \"errors\": 0\n      }\n    },\n    {\n      \"name\": \"199999\",\n      \"layer\": 54,\n      \"distance\": 76001580.0,\n      \"label_summary\": {\n        \"summary\": {\n          \"items\": [\n            [\n              1,\n              99939\n            ],\n            [\n              0,\n              99979\n            ]\n          ]\n        },\n        \"nones\": 0,\n        \"errors\": 0\n      }\n    },\n    {\n      \"name\": \"199999\",\n      \"layer\": 53,\n      \"distance\": 76001580.0,\n      \"label_summary\": {\n        \"summary\": {\n          \"items\": [\n            [\n              1,\n              99793\n            ],\n            [\n              0,\n              96918\n            ]\n          ]\n        },\n        \"nones\": 0,\n        \"errors\": 0\n      }\n    },\n    {\n      \"name\": \"199999\",\n      \"layer\": 52,\n      \"distance\": 76001580.0,\n      \"label_summary\": {\n        \"summary\": {\n          \"items\": [\n            [\n              0,\n              91757\n            ],\n            [\n              1,\n              98608\n            ]\n          ]\n        },\n        \"nones\": 0,\n        \"errors\": 0\n      }\n    },\n    {\n      \"name\": \"199999\",\n      \"layer\": 51,\n      \"distance\": 76001580.0,\n      \"label_summary\": {\n        \"summary\": {\n          \"items\": [\n            [\n              0,\n              90551\n            ],\n            [\n              1,\n              98546\n            ]\n          ]\n        },\n        \"nones\": 0,\n        \"errors\": 0\n      }\n    },\n    {\n      \"name\": \"199999\",\n      \"layer\": 50,\n      \"distance\": 76001580.0,\n      \"label_summary\": {\n        \"summary\": {\n          \"items\": [\n            [\n              0,\n              77092\n            ],\n            [\n              1,\n              90510\n            ]\n          ]\n        },\n        \"nones\": 0,\n        \"errors\": 0\n      }\n    },\n    {\n      \"name\": \"199999\",\n      \"layer\": 49,\n      \"distance\": 76001580.0,\n      \"label_summary\": {\n        \"summary\": {\n          \"items\": [\n            [\n              0,\n              73454\n            ],\n            [\n              1,\n              85771\n            ]\n          ]\n        },\n        \"nones\": 0,\n        \"errors\": 0\n      }\n    },\n    {\n      \"name\": \"199999\",\n      \"layer\": 48,\n      \"distance\": 76001580.0,\n      \"label_summary\": {\n        \"summary\": {\n          \"items\": [\n            [\n              0,\n              61878\n            ],\n            [\n              1,\n              71771\n            ]\n          ]\n        },\n        \"nones\": 0,\n        \"errors\": 0\n      }\n    },\n    {\n      \"name\": \"199999\",\n      \"layer\": 47,\n      \"distance\": 76001580.0,\n      \"label_summary\": {\n        \"summary\": {\n          \"items\": [\n            [\n              0,\n              32165\n            ],\n            [\n              1,\n              58186\n            ]\n          ]\n        },\n        \"nones\": 0,\n        \"errors\": 0\n      }\n    },\n    {\n      \"name\": \"199999\",\n      \"layer\": 46,\n      \"distance\": 76001580.0,\n      \"label_summary\": {\n        \"summary\": {\n          \"items\": [\n            [\n              0,\n              18400\n            ],\n            [\n              1,\n              41778\n            ]\n          ]\n        },\n        \"nones\": 0,\n        \"errors\": 0\n      }\n    },\n    {\n      \"name\": \"33759\",\n      \"layer\": 45,\n      \"distance\": 57545612.0,\n      \"label_summary\": {\n        \"summary\": {\n          \"items\": [\n            [\n              0,\n              4912\n            ],\n            [\n              1,\n              21643\n            ]\n          ]\n        },\n        \"nones\": 0,\n        \"errors\": 0\n      }\n    },\n    {\n      \"name\": \"15436\",\n      \"layer\": 44,\n      \"distance\": 400.04623,\n      \"label_summary\": {\n        \"summary\": {\n          \"items\": [\n            [\n              0,\n              4568\n            ],\n            [\n              1,\n              21640\n            ]\n          ]\n        },\n        \"nones\": 0,\n        \"errors\": 0\n      }\n    },\n    {\n      \"name\": \"15436\",\n      \"layer\": 43,\n      \"distance\": 400.04623,\n      \"label_summary\": {\n        \"summary\": {\n          \"items\": [\n            [\n              0,\n              4467\n            ],\n            [\n              1,\n              21637\n            ]\n          ]\n        },\n        \"nones\": 0,\n        \"errors\": 0\n      }\n    },\n    {\n      \"name\": \"15436\",\n      \"layer\": 42,\n      \"distance\": 400.04623,\n      \"label_summary\": {\n        \"summary\": {\n          \"items\": [\n            [\n              0,\n              4226\n            ],\n            [\n              1,\n              21624\n            ]\n          ]\n        },\n        \"nones\": 0,\n        \"errors\": 0\n      }\n    },\n    {\n      \"name\": \"15436\",\n      \"layer\": 41,\n      \"distance\": 400.04623,\n      \"label_summary\": {\n        \"summary\": {\n          \"items\": [\n            [\n              0,\n              2747\n            ],\n            [\n              1,\n              20552\n            ]\n          ]\n        },\n        \"nones\": 0,\n        \"errors\": 0\n      }\n    },\n    {\n      \"name\": \"15436\",\n      \"layer\": 40,\n      \"distance\": 400.04623,\n      \"label_summary\": {\n        \"summary\": {\n          \"items\": [\n            [\n              0,\n              2548\n            ],\n            [\n              1,\n              20523\n            ]\n          ]\n        },\n        \"nones\": 0,\n        \"errors\": 0\n      }\n    },\n    {\n      \"name\": \"15436\",\n      \"layer\": 39,\n      \"distance\": 400.04623,\n      \"label_summary\": {\n        \"summary\": {\n          \"items\": [\n            [\n              0,\n              1237\n            ],\n            [\n              1,\n              19775\n            ]\n          ]\n        },\n        \"nones\": 0,\n        \"errors\": 0\n      }\n    },\n    {\n      \"name\": \"15436\",\n      \"layer\": 38,\n      \"distance\": 400.04623,\n      \"label_summary\": {\n        \"summary\": {\n          \"items\": [\n            [\n              0,\n              897\n            ],\n            [\n              1,\n              19225\n            ]\n          ]\n        },\n        \"nones\": 0,\n        \"errors\": 0\n      }\n    },\n    {\n      \"name\": \"15436\",\n      \"layer\": 37,\n      \"distance\": 400.04623,\n      \"label_summary\": {\n        \"summary\": {\n          \"items\": [\n            [\n              1,\n              18832\n            ],\n            [\n              0,\n              32\n            ]\n          ]\n        },\n        \"nones\": 0,\n        \"errors\": 0\n      }\n    },\n    {\n      \"name\": \"15436\",\n      \"layer\": 36,\n      \"distance\": 400.04623,\n      \"label_summary\": {\n        \"summary\": {\n          \"items\": [\n            [\n              1,\n              18829\n            ]\n          ]\n        },\n        \"nones\": 0,\n        \"errors\": 0\n      }\n    },\n    {\n      \"name\": \"15436\",\n      \"layer\": 23,\n      \"distance\": 400.04623,\n      \"label_summary\": {\n        \"summary\": {\n          \"items\": [\n            [\n              1,\n              18829\n            ]\n          ]\n        },\n        \"nones\": 0,\n        \"errors\": 0\n      }\n    },\n    {\n      \"name\": \"15436\",\n      \"layer\": 22,\n      \"distance\": 400.04623,\n      \"label_summary\": {\n        \"summary\": {\n          \"items\": [\n            [\n              1,\n              17866\n            ]\n          ]\n        },\n        \"nones\": 0,\n        \"errors\": 0\n      }\n    },\n    {\n      \"name\": \"15436\",\n      \"layer\": 21,\n      \"distance\": 400.04623,\n      \"label_summary\": {\n        \"summary\": {\n          \"items\": [\n            [\n              1,\n              16056\n            ]\n          ]\n        },\n        \"nones\": 0,\n        \"errors\": 0\n      }\n    },\n    {\n      \"name\": \"15436\",\n      \"layer\": 20,\n      \"distance\": 400.04623,\n      \"label_summary\": {\n        \"summary\": {\n          \"items\": [\n            [\n              1,\n              14771\n            ]\n          ]\n        },\n        \"nones\": 0,\n        \"errors\": 0\n      }\n    },\n    {\n      \"name\": \"15436\",\n      \"layer\": 19,\n      \"distance\": 400.04623,\n      \"label_summary\": {\n        \"summary\": {\n          \"items\": [\n            [\n              1,\n              11576\n            ]\n          ]\n        },\n        \"nones\": 0,\n        \"errors\": 0\n      }\n    },\n    {\n      \"name\": \"15436\",\n      \"layer\": 18,\n      \"distance\": 400.04623,\n      \"label_summary\": {\n        \"summary\": {\n          \"items\": [\n            [\n              1,\n              9256\n            ]\n          ]\n        },\n        \"nones\": 0,\n        \"errors\": 0\n      }\n    },\n    {\n      \"name\": \"15436\",\n      \"layer\": 17,\n      \"distance\": 400.04623,\n      \"label_summary\": {\n        \"summary\": {\n          \"items\": [\n            [\n              1,\n              5760\n            ]\n          ]\n        },\n        \"nones\": 0,\n        \"errors\": 0\n      }\n    },\n    {\n      \"name\": \"75237\",\n      \"layer\": 16,\n      \"distance\": 332.4891,\n      \"label_summary\": {\n        \"summary\": {\n          \"items\": [\n            [\n              1,\n              1641\n            ]\n          ]\n        },\n        \"nones\": 0,\n        \"errors\": 0\n      }\n    },\n    {\n      \"name\": \"75237\",\n      \"layer\": 15,\n      \"distance\": 332.4891,\n      \"label_summary\": {\n        \"summary\": {\n          \"items\": [\n            [\n              1,\n              1641\n            ]\n          ]\n        },\n        \"nones\": 0,\n        \"errors\": 0\n      }\n    },\n    {\n      \"name\": \"48288\",\n      \"layer\": 14,\n      \"distance\": 24.596748,\n      \"label_summary\": {\n        \"summary\": {\n          \"items\": [\n            [\n              1,\n              859\n            ]\n          ]\n        },\n        \"nones\": 0,\n        \"errors\": 0\n      }\n    },\n    {\n      \"name\": \"48288\",\n      \"layer\": 13,\n      \"distance\": 24.596748,\n      \"label_summary\": {\n        \"summary\": {\n          \"items\": [\n            [\n              1,\n              859\n            ]\n          ]\n        },\n        \"nones\": 0,\n        \"errors\": 0\n      }\n    },\n    {\n      \"name\": \"48288\",\n      \"layer\": 12,\n      \"distance\": 24.596748,\n      \"label_summary\": {\n        \"summary\": {\n          \"items\": [\n            [\n              1,\n              503\n            ]\n          ]\n        },\n        \"nones\": 0,\n        \"errors\": 0\n      }\n    },\n    {\n      \"name\": \"48288\",\n      \"layer\": 11,\n      \"distance\": 24.596748,\n      \"label_summary\": {\n        \"summary\": {\n          \"items\": [\n            [\n              1,\n              465\n            ]\n          ]\n        },\n        \"nones\": 0,\n        \"errors\": 0\n      }\n    },\n    {\n      \"name\": \"48288\",\n      \"layer\": 10,\n      \"distance\": 24.596748,\n      \"label_summary\": {\n        \"summary\": {\n          \"items\": [\n            [\n              1,\n              256\n            ]\n          ]\n        },\n        \"nones\": 0,\n        \"errors\": 0\n      }\n    },\n    {\n      \"name\": \"48288\",\n      \"layer\": 9,\n      \"distance\": 24.596748,\n      \"label_summary\": {\n        \"summary\": {\n          \"items\": [\n            [\n              1,\n              188\n            ]\n          ]\n        },\n        \"nones\": 0,\n        \"errors\": 0\n      }\n    },\n    {\n      \"name\": \"139576\",\n      \"layer\": 8,\n      \"distance\": 17.464249,\n      \"label_summary\": {\n        \"summary\": {\n          \"items\": [\n            [\n              1,\n              25\n            ]\n          ]\n        },\n        \"nones\": 0,\n        \"errors\": 0\n      }\n    }\n  ]\n}\n"
     ]
    }
   ],
   "source": [
    "sample_bytes = zlib.compress(msgpack.packb([float(f) for f in x_test[0]]))\n",
    "\n",
    "r = requests.get('http://localhost:3030/path', headers = {\"Content-Type\": \"gzip\"}, data=sample_bytes)\n",
    "\n",
    "print(r)\n",
    "print(json.dumps(json.loads(r.text), indent=2))"
   ]
  },
  {
   "source": [
    "## Configuring the tracker, /track/add?window_size=N&tracker_name=NAME\n",
    "\n",
    "We set up trackers, which use the paths (from the previous query). In this case we have a window_size of 100, so we'll be tracking the last 100 queries. We omit the tracker name to add this window to the default tracker."
   ],
   "cell_type": "markdown",
   "metadata": {}
  },
  {
   "cell_type": "code",
   "execution_count": 6,
   "metadata": {},
   "outputs": [
    {
     "output_type": "stream",
     "name": "stdout",
     "text": [
      "<Response [200]>\n{\n  \"AddTracker\": {\n    \"success\": false\n  }\n}\n"
     ]
    }
   ],
   "source": [
    "# Should get {'Unknown': [None, 100]}\n",
    "r = requests.post('http://localhost:3030/track/add?window_size=100')\n",
    "\n",
    "print(r)\n",
    "print(json.dumps(json.loads(r.text), indent=2))"
   ]
  },
  {
   "source": [
    "## Tracking a point: /track/point?tracker_name=NAME\n",
    "\n",
    "This adds the point to the default trackers. We only have the one, the one with window_size `100`"
   ],
   "cell_type": "markdown",
   "metadata": {}
  },
  {
   "cell_type": "code",
   "execution_count": 7,
   "metadata": {},
   "outputs": [
    {
     "output_type": "stream",
     "name": "stdout",
     "text": [
      "{\n  \"TrackPath\": {\n    \"success\": true\n  }\n}\n"
     ]
    }
   ],
   "source": [
    "# Should 200, {'TrackPath': {'success': True}}\n",
    "sample_bytes = zlib.compress(msgpack.packb([float(f) for f in x_test[0]]))\n",
    "r = requests.post('http://localhost:3030/track/point', headers = {\"Content-Type\": \"gzip\"}, data=sample_bytes)\n",
    "print(json.dumps(json.loads(r.text), indent=2))"
   ]
  },
  {
   "source": [
    "# Gets the stats back out: /track/stats?window_size=N&tracker_name=NAME\n",
    "\n",
    "This grabs the stats for the tracker "
   ],
   "cell_type": "markdown",
   "metadata": {}
  },
  {
   "cell_type": "code",
   "execution_count": 8,
   "metadata": {},
   "outputs": [
    {
     "output_type": "stream",
     "name": "stdout",
     "text": [
      "{\n  \"CurrentStats\": {\n    \"kl_div\": 0.07742628264899665,\n    \"max\": 0.0688584204759417,\n    \"min\": 8.691216635270393e-10,\n    \"nz_count\": 34,\n    \"moment1_nz\": 0.07947733725128625,\n    \"moment2_nz\": 0.004766578833762081,\n    \"sequence_len\": 2\n  }\n}\n"
     ]
    }
   ],
   "source": [
    "# Should get a current stats object with a very small kl_div.\n",
    "r = requests.get('http://localhost:3030/track/stats?window_size=100')\n",
    "print(json.dumps(json.loads(r.text), indent=2))"
   ]
  },
  {
   "source": [
    "## Normal Queries!"
   ],
   "cell_type": "markdown",
   "metadata": {}
  },
  {
   "cell_type": "code",
   "execution_count": 9,
   "metadata": {},
   "outputs": [
    {
     "output_type": "stream",
     "name": "stdout",
     "text": [
      "{\n  \"CurrentStats\": {\n    \"kl_div\": 1.6717167818221697,\n    \"max\": 0.2658954744674986,\n    \"min\": 4.765811478790738e-08,\n    \"nz_count\": 625,\n    \"moment1_nz\": 1.7472514390241187,\n    \"moment2_nz\": 0.12248904008724106,\n    \"sequence_len\": 100\n  }\n}\n"
     ]
    }
   ],
   "source": [
    "r = requests.post('http://localhost:3030/track/add?window_size=100&tracker_name=normal')\n",
    "\n",
    "for i in range(100):\n",
    "    sample_bytes = zlib.compress(msgpack.packb([float(f) for f in x_test[i]]))\n",
    "    r = requests.post('http://localhost:3030/track/point?tracker_name=normal', headers = {\"Content-Type\": \"gzip\"}, data=sample_bytes)\n",
    "    assert json.loads(r.text)[\"TrackPath\"][\"success\"] == True\n",
    "    \n",
    "r = requests.get('http://localhost:3030/track/stats?window_size=100&tracker_name=normal')\n",
    "print(json.dumps(json.loads(r.text), indent=2))"
   ]
  },
  {
   "source": [
    "# Basic Attack Simulation\n",
    "\n",
    "The Test set attack is what 99% of malware authors do. Try things until you get a bypass, then do that until it stops working. This is a perfect simulation of that attack.\n",
    "\n",
    "All the blackbox attacks, and all the Malware attacks form hotspots. The same location gets queried over and over again. This is either immediate (in the case of ToucanStrike) or after a very short exploration phase (in the case of CounterFit). Poisoing a location in the dataset also works similarly, but doesn't form quite as high a maximum nodal KL-divergence."
   ],
   "cell_type": "markdown",
   "metadata": {}
  },
  {
   "cell_type": "code",
   "execution_count": 10,
   "metadata": {},
   "outputs": [
    {
     "output_type": "stream",
     "name": "stdout",
     "text": [
      "{\n  \"CurrentStats\": {\n    \"kl_div\": 60.14726813266543,\n    \"max\": 79.49557177004016,\n    \"min\": 1.0008556898810639e-06,\n    \"nz_count\": 35,\n    \"moment1_nz\": 102.36068891179305,\n    \"moment2_nz\": 6429.589883111649,\n    \"sequence_len\": 100\n  }\n}\n"
     ]
    }
   ],
   "source": [
    "r = requests.post('http://localhost:3030/track/add?window_size=100&tracker_name=attack')\n",
    "\n",
    "sample_bytes = zlib.compress(msgpack.packb([float(f) for f in x_test[0]]))\n",
    "for i in range(100):\n",
    "    r = requests.post('http://localhost:3030/track/point?tracker_name=attack', headers = {\"Content-Type\": \"gzip\"}, data=sample_bytes)\n",
    "    assert json.loads(r.text)[\"TrackPath\"][\"success\"] == True\n",
    "    \n",
    "r = requests.get('http://localhost:3030/track/stats?window_size=100&tracker_name=attack')\n",
    "print(json.dumps(json.loads(r.text), indent=2))"
   ]
  },
  {
   "cell_type": "code",
   "execution_count": null,
   "metadata": {},
   "outputs": [],
   "source": []
  }
 ]
}